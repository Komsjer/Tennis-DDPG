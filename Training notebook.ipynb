{
 "cells": [
  {
   "cell_type": "markdown",
   "metadata": {},
   "source": [
    "# Training a DDPG agent"
   ]
  },
  {
   "cell_type": "code",
   "execution_count": 1,
   "metadata": {},
   "outputs": [],
   "source": [
    "from unityagents import UnityEnvironment\n",
    "import numpy as np"
   ]
  },
  {
   "cell_type": "code",
   "execution_count": 2,
   "metadata": {},
   "outputs": [],
   "source": [
    "from IPython.display import clear_output"
   ]
  },
  {
   "cell_type": "code",
   "execution_count": 3,
   "metadata": {},
   "outputs": [],
   "source": [
    "import matplotlib.pyplot as plt\n",
    "%matplotlib inline"
   ]
  },
  {
   "cell_type": "code",
   "execution_count": 4,
   "metadata": {},
   "outputs": [],
   "source": [
    "PATH = \"C:/Users/Gebruiker/Documents/Coding 2019/deep-reinforcement-learning/p3_collab-compet/Tennis_Windows_x86_64/Tennis.exe\""
   ]
  },
  {
   "cell_type": "code",
   "execution_count": 5,
   "metadata": {},
   "outputs": [
    {
     "name": "stderr",
     "output_type": "stream",
     "text": [
      "INFO:unityagents:\n",
      "'Academy' started successfully!\n",
      "Unity Academy name: Academy\n",
      "        Number of Brains: 1\n",
      "        Number of External Brains : 1\n",
      "        Lesson number : 0\n",
      "        Reset Parameters :\n",
      "\t\t\n",
      "Unity brain name: TennisBrain\n",
      "        Number of Visual Observations (per agent): 0\n",
      "        Vector Observation space type: continuous\n",
      "        Vector Observation space size (per agent): 8\n",
      "        Number of stacked Vector Observation: 3\n",
      "        Vector Action space type: continuous\n",
      "        Vector Action space size (per agent): 2\n",
      "        Vector Action descriptions: , \n"
     ]
    }
   ],
   "source": [
    "env = UnityEnvironment(file_name=PATH)"
   ]
  },
  {
   "cell_type": "code",
   "execution_count": 6,
   "metadata": {},
   "outputs": [],
   "source": [
    "# get the default brain\n",
    "brain_name = env.brain_names[0]\n",
    "brain = env.brains[brain_name]"
   ]
  },
  {
   "cell_type": "code",
   "execution_count": 7,
   "metadata": {},
   "outputs": [
    {
     "name": "stdout",
     "output_type": "stream",
     "text": [
      "Number of agents: 2\n",
      "Size of each action: 2\n",
      "There are 2 agents. Each observes a state with length: 24\n",
      "The state for the first agent looks like: [ 0.          0.          0.          0.          0.          0.\n",
      "  0.          0.          0.          0.          0.          0.\n",
      "  0.          0.          0.          0.         -6.65278625 -1.5\n",
      " -0.          0.          6.83172083  6.         -0.          0.        ]\n"
     ]
    }
   ],
   "source": [
    "# reset the environment\n",
    "env_info = env.reset(train_mode=True)[brain_name]\n",
    "\n",
    "# number of agents \n",
    "num_agents = len(env_info.agents)\n",
    "print('Number of agents:', num_agents)\n",
    "\n",
    "# size of each action\n",
    "action_size = brain.vector_action_space_size\n",
    "print('Size of each action:', action_size)\n",
    "\n",
    "# examine the state space \n",
    "states = env_info.vector_observations\n",
    "state_size = states.shape[1]\n",
    "print('There are {} agents. Each observes a state with length: {}'.format(states.shape[0], state_size))\n",
    "print('The state for the first agent looks like:', states[0])"
   ]
  },
  {
   "cell_type": "code",
   "execution_count": 8,
   "metadata": {},
   "outputs": [],
   "source": [
    "from agent import Agent"
   ]
  },
  {
   "cell_type": "code",
   "execution_count": 9,
   "metadata": {},
   "outputs": [],
   "source": [
    "agent = Agent(state_size, action_size, num_agents)"
   ]
  },
  {
   "cell_type": "code",
   "execution_count": 10,
   "metadata": {},
   "outputs": [],
   "source": [
    "epocs = 100 #number of episodes\n",
    "completion_score = 1.1 #Training is stopped if this average score is reached\n",
    "games_per_epoc = 20\n",
    "game_max_length = 1000 #steps per episode or untill done\n",
    "rewards     = []"
   ]
  },
  {
   "cell_type": "code",
   "execution_count": 11,
   "metadata": {},
   "outputs": [
    {
     "name": "stderr",
     "output_type": "stream",
     "text": [
      "C:\\Users\\Gebruiker\\Anaconda3\\envs\\drlnd\\lib\\site-packages\\torch\\nn\\functional.py:995: UserWarning: nn.functional.tanh is deprecated. Use torch.tanh instead.\n",
      "  warnings.warn(\"nn.functional.tanh is deprecated. Use torch.tanh instead.\")\n"
     ]
    },
    {
     "name": "stdout",
     "output_type": "stream",
     "text": [
      "epoc:   0 reward: 0.00000\n",
      "epoc:   1 reward: 0.00450\n",
      "epoc:   2 reward: 0.00000\n",
      "epoc:   3 reward: 0.00000\n",
      "epoc:   4 reward: 0.00000\n",
      "epoc:   5 reward: 0.00000\n",
      "epoc:   6 reward: 0.01450\n",
      "epoc:   7 reward: 0.00000\n",
      "epoc:   8 reward: 0.00000\n",
      "epoc:   9 reward: 0.00000\n",
      "epoc:  10 reward: 0.00000\n",
      "epoc:  11 reward: 0.02950\n",
      "epoc:  12 reward: 0.00500\n",
      "epoc:  13 reward: 0.00500\n",
      "epoc:  14 reward: 0.00000\n",
      "epoc:  15 reward: 0.00500\n",
      "epoc:  16 reward: 0.05500\n",
      "epoc:  17 reward: 0.03950\n",
      "epoc:  18 reward: 0.04350\n",
      "epoc:  19 reward: 0.07650\n",
      "epoc:  20 reward: 0.06200\n",
      "epoc:  21 reward: 0.04800\n",
      "epoc:  22 reward: 0.04300\n",
      "epoc:  23 reward: 0.02900\n",
      "epoc:  24 reward: 0.06800\n",
      "epoc:  25 reward: 0.13400\n",
      "epoc:  26 reward: 0.11500\n",
      "epoc:  27 reward: 0.11500\n",
      "epoc:  28 reward: 0.07950\n",
      "epoc:  29 reward: 0.01500\n",
      "epoc:  30 reward: 0.05000\n",
      "epoc:  31 reward: 0.08450\n",
      "epoc:  32 reward: 0.08900\n",
      "epoc:  33 reward: 0.16450\n",
      "epoc:  34 reward: 0.13450\n",
      "epoc:  35 reward: 0.09500\n",
      "epoc:  36 reward: 0.12000\n",
      "epoc:  37 reward: 0.17450\n",
      "epoc:  38 reward: 0.20950\n",
      "epoc:  39 reward: 0.53850\n",
      "epoc:  40 reward: 0.85900\n",
      "epoc:  41 reward: 0.93350\n",
      "epoc:  42 reward: 0.50850\n",
      "epoc:  43 reward: 0.73400\n",
      "epoc:  44 reward: 1.40500\n",
      "epoc:  45 reward: 1.26950\n",
      "epoc:  46 reward: 0.48800\n",
      "epoc:  47 reward: 0.63000\n",
      "epoc:  48 reward: 0.65000\n",
      "epoc:  49 reward: 0.16500\n",
      "epoc:  50 reward: 1.27350\n",
      "epoc:  51 reward: 2.10500\n"
     ]
    }
   ],
   "source": [
    "for epoc in range(epocs):\n",
    "    epoc_avg_reward = 0\n",
    "    for game in range(games_per_epoc):\n",
    "        env_info = env.reset(train_mode=True)[brain_name]\n",
    "        state = env_info.vector_observations\n",
    "        scores = np.zeros(num_agents)                          # initialize the score (for each agent)\n",
    "        for step in range(game_max_length):\n",
    "            action = agent.get_action(state)\n",
    "            action = np.clip(action, -1, 1)  \n",
    "            env_info = env.step(action)[brain_name]\n",
    "            next_state = env_info.vector_observations\n",
    "            reward = env_info.rewards\n",
    "            dones = env_info.local_done\n",
    "\n",
    "            agent.add_replay(state, action, reward, next_state, dones)\n",
    "\n",
    "            agent.learning_step()\n",
    "\n",
    "            state = next_state\n",
    "            scores += env_info.rewards                         # update the score (for each agent)\n",
    "            #epoc_avg_reward += sum(reward)/float(games_per_epoc)\n",
    "\n",
    "            if np.any(dones):                                  # exit loop if episode finished\n",
    "                break\n",
    "        epoc_avg_reward += np.max(scores)/float(games_per_epoc)\n",
    "\n",
    "    print (\"epoc: {0:3} reward: {1:2.5f}\".format(epoc,epoc_avg_reward))\n",
    "    rewards.append(epoc_avg_reward)\n",
    "    if (epoc_avg_reward > completion_score):\n",
    "        break"
   ]
  },
  {
   "cell_type": "code",
   "execution_count": 12,
   "metadata": {},
   "outputs": [],
   "source": [
    "agent.save(\"model1\")"
   ]
  },
  {
   "cell_type": "code",
   "execution_count": 13,
   "metadata": {},
   "outputs": [
    {
     "data": {
      "image/png": "[encoded data removed]",
      "text/plain": [
       "<Figure size 432x288 with 1 Axes>"
      ]
     },
     "metadata": {
      "needs_background": "light"
     },
     "output_type": "display_data"
    }
   ],
   "source": [
    "plt.plot(rewards)\n",
    "plt.ylabel('reward')\n",
    "plt.xlabel('epoc')\n",
    "plt.show()"
   ]
  },
  {
   "cell_type": "code",
   "execution_count": 14,
   "metadata": {},
   "outputs": [],
   "source": [
    "env.close()"
   ]
  }
 ],
 "metadata": {
  "kernelspec": {
   "display_name": "drlnd",
   "language": "python",
   "name": "drlnd"
  },
  "language_info": {
   "codemirror_mode": {
    "name": "ipython",
    "version": 3
   },
   "file_extension": ".py",
   "mimetype": "text/x-python",
   "name": "python",
   "nbconvert_exporter": "python",
   "pygments_lexer": "ipython3",
   "version": "3.6.8"
  }
 },
 "nbformat": 4,
 "nbformat_minor": 2
}
